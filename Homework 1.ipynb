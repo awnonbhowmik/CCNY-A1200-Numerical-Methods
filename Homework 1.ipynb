{
 "cells": [
  {
   "cell_type": "markdown",
   "metadata": {},
   "source": [
    "# Homework 1"
   ]
  },
  {
   "cell_type": "code",
   "execution_count": 12,
   "metadata": {},
   "outputs": [],
   "source": [
    "import numpy as np\n",
    "import matplotlib\n",
    "import matplotlib.pyplot as plt\n",
    "%matplotlib inline"
   ]
  },
  {
   "cell_type": "code",
   "execution_count": 2,
   "metadata": {},
   "outputs": [],
   "source": [
    "def bisection(f,a,b,tol):\n",
    "    if f(a)*f(b)>0:\n",
    "        print(\"Bisection method fails!\")\n",
    "        return None\n",
    "    print(\"Iteration\\tSolution\")\n",
    "    i = 0\n",
    "    while True:\n",
    "        c=(a+b)/2\n",
    "        i+=1\n",
    "\n",
    "        if f(a)*f(c)>0:\n",
    "            a=c\n",
    "            print(\"\\t{}\\t{}\".format(i,c))\n",
    "        elif f(a)*f(c)<0:\n",
    "            print(\"\\t{}\\t{}\".format(i,c))\n",
    "            b=c\n",
    "        elif f(c)==0:\n",
    "            print(\"\\t{}\\t{}\".format(i,c))    \n",
    "        else:\n",
    "            print(\"Bisection method fails!\")\n",
    "            return None\n",
    "\n",
    "        if abs(b-a)<tol:\n",
    "            print(\"\\n\")\n",
    "            break"
   ]
  },
  {
   "cell_type": "markdown",
   "metadata": {},
   "source": [
    "## Question 1\n",
    "\n",
    "Here we are asked to find the 3rd iteration of bisection method for the equation $f(x)=\\sqrt{x}-\\cos x$ in the interval $[0,1]$"
   ]
  },
  {
   "cell_type": "code",
   "execution_count": 3,
   "metadata": {},
   "outputs": [
    {
     "name": "stdout",
     "output_type": "stream",
     "text": [
      "Iteration\tSolution\n",
      "\t1\t0.5\n",
      "\t2\t0.75\n",
      "\t3\t0.625\n",
      "\t4\t0.6875\n",
      "\t5\t0.65625\n",
      "\t6\t0.640625\n",
      "\t7\t0.6484375\n",
      "\n",
      "\n"
     ]
    }
   ],
   "source": [
    "f = lambda x: np.sqrt(x)-np.cos(x)\n",
    "a,b=0,1\n",
    "bisection(f,a,b,0.01)"
   ]
  },
  {
   "cell_type": "markdown",
   "metadata": {},
   "source": [
    "The 3rd iteration gives $x=0.625$"
   ]
  },
  {
   "cell_type": "markdown",
   "metadata": {},
   "source": [
    "## Question 3\n",
    "\n",
    "Given $f(x)=x^3-7x^2+14x-6=0$, find solutions accurate to $10^{-2}$ within the intervals\n",
    "1. $[0,1]$\n",
    "2. $[1,3.2]$\n",
    "3. $[3.2,4]$"
   ]
  },
  {
   "cell_type": "code",
   "execution_count": 4,
   "metadata": {},
   "outputs": [
    {
     "name": "stdout",
     "output_type": "stream",
     "text": [
      "Iteration\tSolution\n",
      "\t1\t0.5\n",
      "\t2\t0.75\n",
      "\t3\t0.625\n",
      "\t4\t0.5625\n",
      "\t5\t0.59375\n",
      "\t6\t0.578125\n",
      "\t7\t0.5859375\n",
      "\n",
      "\n",
      "Iteration\tSolution\n",
      "\t1\t2.1\n",
      "\t2\t2.6500000000000004\n",
      "\t3\t2.9250000000000003\n",
      "\t4\t3.0625\n",
      "\t5\t2.9937500000000004\n",
      "\t6\t3.028125\n",
      "\t7\t3.0109375000000003\n",
      "\t8\t3.0023437500000005\n",
      "\n",
      "\n",
      "Iteration\tSolution\n",
      "\t1\t3.6\n",
      "\t2\t3.4000000000000004\n",
      "\t3\t3.5\n",
      "\t4\t3.45\n",
      "\t5\t3.4250000000000003\n",
      "\t6\t3.4125000000000005\n",
      "\t7\t3.41875\n",
      "\n",
      "\n"
     ]
    }
   ],
   "source": [
    "f=lambda x: x**3-7*x**2+14*x-6\n",
    "\n",
    "a,b=0,1\n",
    "bisection(f,a,b,0.01)\n",
    "\n",
    "a,b=1,3.2\n",
    "bisection(f,a,b,0.01)\n",
    "\n",
    "a,b=3.2,4\n",
    "bisection(f,a,b,0.01)"
   ]
  },
  {
   "cell_type": "markdown",
   "metadata": {},
   "source": [
    "| Interval | x     |   |   |   |\n",
    "|----------|-------|---|---|---|\n",
    "| [0,1]    | 0.586 |   |   |   |\n",
    "| [1,3.2]  | 3.002 |   |   |   |\n",
    "| [3.2,4]  | 3.419 |   |   |   |"
   ]
  },
  {
   "cell_type": "markdown",
   "metadata": {},
   "source": [
    "## Question 5\n",
    "\n",
    "Use bisection method to find solutions accurate to $10^{-5}$ of\n",
    "* $x-2^{-x}=0$ for $0\\le x\\le 1$\n",
    "* $e^x-x^2+3x-2=0$ for $0\\le x\\le 1$\n",
    "* $2x\\cos 2x-(x + 1)^2 = 0$ for $-3\\le x\\le -2$ and $-1\\le x\\le 0$\n",
    "* $x\\cos x - 2x^2 + 3x - 1 = 0$ for $0.2\\le x\\le 0.3$ and $1.2\\le x\\le 1.3$"
   ]
  },
  {
   "cell_type": "code",
   "execution_count": 5,
   "metadata": {},
   "outputs": [
    {
     "name": "stdout",
     "output_type": "stream",
     "text": [
      "Iteration\tSolution\n",
      "\t1\t0.5\n",
      "\t2\t0.75\n",
      "\t3\t0.625\n",
      "\t4\t0.6875\n",
      "\t5\t0.65625\n",
      "\t6\t0.640625\n",
      "\t7\t0.6484375\n",
      "\t8\t0.64453125\n",
      "\t9\t0.642578125\n",
      "\t10\t0.6416015625\n",
      "\t11\t0.64111328125\n",
      "\t12\t0.641357421875\n",
      "\t13\t0.6412353515625\n",
      "\t14\t0.64117431640625\n",
      "\t15\t0.641204833984375\n",
      "\t16\t0.6411895751953125\n",
      "\t17\t0.6411819458007812\n",
      "\n",
      "\n"
     ]
    }
   ],
   "source": [
    "f=lambda x:x-2**(-x)\n",
    "a,b=0,1\n",
    "bisection(f,a,b,10**-5)"
   ]
  },
  {
   "cell_type": "code",
   "execution_count": 6,
   "metadata": {},
   "outputs": [
    {
     "name": "stdout",
     "output_type": "stream",
     "text": [
      "Iteration\tSolution\n",
      "\t1\t0.5\n",
      "\t2\t0.25\n",
      "\t3\t0.375\n",
      "\t4\t0.3125\n",
      "\t5\t0.28125\n",
      "\t6\t0.265625\n",
      "\t7\t0.2578125\n",
      "\t8\t0.25390625\n",
      "\t9\t0.255859375\n",
      "\t10\t0.2568359375\n",
      "\t11\t0.25732421875\n",
      "\t12\t0.257568359375\n",
      "\t13\t0.2574462890625\n",
      "\t14\t0.25750732421875\n",
      "\t15\t0.257537841796875\n",
      "\t16\t0.2575225830078125\n",
      "\t17\t0.25753021240234375\n",
      "\n",
      "\n"
     ]
    }
   ],
   "source": [
    "f=lambda x:np.exp(x)-x**2+3*x-2\n",
    "a,b=0,1\n",
    "bisection(f,a,b,10**-5)"
   ]
  },
  {
   "cell_type": "code",
   "execution_count": 7,
   "metadata": {},
   "outputs": [
    {
     "name": "stdout",
     "output_type": "stream",
     "text": [
      "Iteration\tSolution\n",
      "\t1\t-2.5\n",
      "\t2\t-2.25\n",
      "\t3\t-2.125\n",
      "\t4\t-2.1875\n",
      "\t5\t-2.21875\n",
      "\t6\t-2.203125\n",
      "\t7\t-2.1953125\n",
      "\t8\t-2.19140625\n",
      "\t9\t-2.189453125\n",
      "\t10\t-2.1904296875\n",
      "\t11\t-2.19091796875\n",
      "\t12\t-2.191162109375\n",
      "\t13\t-2.1912841796875\n",
      "\t14\t-2.19134521484375\n",
      "\t15\t-2.191314697265625\n",
      "\t16\t-2.1912994384765625\n",
      "\t17\t-2.1913070678710938\n",
      "\n",
      "\n",
      "Iteration\tSolution\n",
      "\t1\t-0.5\n",
      "\t2\t-0.75\n",
      "\t3\t-0.875\n",
      "\t4\t-0.8125\n",
      "\t5\t-0.78125\n",
      "\t6\t-0.796875\n",
      "\t7\t-0.8046875\n",
      "\t8\t-0.80078125\n",
      "\t9\t-0.798828125\n",
      "\t10\t-0.7978515625\n",
      "\t11\t-0.79833984375\n",
      "\t12\t-0.798095703125\n",
      "\t13\t-0.7982177734375\n",
      "\t14\t-0.79815673828125\n",
      "\t15\t-0.798187255859375\n",
      "\t16\t-0.7981719970703125\n",
      "\t17\t-0.7981643676757812\n",
      "\n",
      "\n"
     ]
    }
   ],
   "source": [
    "f=lambda x:2*x*np.cos(2*x)-(x+1)**2\n",
    "a,b=-3,-2\n",
    "bisection(f,a,b,10**-5)\n",
    "\n",
    "a,b=-1,0\n",
    "bisection(f,a,b,10**-5)"
   ]
  },
  {
   "cell_type": "code",
   "execution_count": 9,
   "metadata": {},
   "outputs": [
    {
     "name": "stdout",
     "output_type": "stream",
     "text": [
      "Iteration\tSolution\n",
      "\t1\t0.25\n",
      "\t2\t0.275\n",
      "\t3\t0.2875\n",
      "\t4\t0.29374999999999996\n",
      "\t5\t0.296875\n",
      "\t6\t0.2984375\n",
      "\t7\t0.29765625\n",
      "\t8\t0.297265625\n",
      "\t9\t0.2974609375\n",
      "\t10\t0.29755859375000004\n",
      "\t11\t0.29750976562500003\n",
      "\t12\t0.29753417968750007\n",
      "\t13\t0.29752197265625\n",
      "\t14\t0.29752807617187504\n",
      "\n",
      "\n",
      "Iteration\tSolution\n",
      "\t1\t1.25\n",
      "\t2\t1.275\n",
      "\t3\t1.2625\n",
      "\t4\t1.25625\n",
      "\t5\t1.259375\n",
      "\t6\t1.2578125\n",
      "\t7\t1.25703125\n",
      "\t8\t1.2566406250000002\n",
      "\t9\t1.2564453125000001\n",
      "\t10\t1.2565429687500003\n",
      "\t11\t1.2565917968750002\n",
      "\t12\t1.2566162109375\n",
      "\t13\t1.2566284179687501\n",
      "\t14\t1.256622314453125\n",
      "\n",
      "\n"
     ]
    }
   ],
   "source": [
    "f=lambda x:x*np.cos(x)-2*x**2+3*x-1\n",
    "a,b=0.2,0.3\n",
    "bisection(f,a,b,10**-5)\n",
    "\n",
    "a,b=1.2,1.3\n",
    "bisection(f,a,b,10**-5)"
   ]
  },
  {
   "cell_type": "markdown",
   "metadata": {},
   "source": [
    "## Question 7\n",
    "\n",
    "Plot $y=x$ and $y=2\\sin x$ and find an approximation to the first root accurate to $10^{-5}$"
   ]
  },
  {
   "cell_type": "code",
   "execution_count": 61,
   "metadata": {
    "scrolled": true
   },
   "outputs": [
    {
     "data": {
      "image/png": "[encoded data removed]",
      "text/plain": [
       "<Figure size 432x288 with 1 Axes>"
      ]
     },
     "metadata": {
      "needs_background": "light"
     },
     "output_type": "display_data"
    }
   ],
   "source": [
    "x = np.arange(-np.pi,2*np.pi,0.1)   # start,stop,step\n",
    "y = 2*np.sin(x)\n",
    "z = x\n",
    "ax.grid()\n",
    "plt.grid(True)\n",
    "plt.plot(x,y,x,z)\n",
    "plt.xlabel('$x$')\n",
    "plt.ylabel('$y$')\n",
    "plt.title('Plot of y=x and y=2 sin x')\n",
    "plt.legend(['x','2 sin x'])\n",
    "plt.show()"
   ]
  },
  {
   "cell_type": "code",
   "execution_count": 24,
   "metadata": {},
   "outputs": [
    {
     "name": "stdout",
     "output_type": "stream",
     "text": [
      "Iteration\tSolution\n",
      "\t1\t-1.5\n",
      "\t2\t-1.75\n",
      "\t3\t-1.875\n",
      "\t4\t-1.9375\n",
      "\t5\t-1.90625\n",
      "\t6\t-1.890625\n",
      "\t7\t-1.8984375\n",
      "\t8\t-1.89453125\n",
      "\t9\t-1.896484375\n",
      "\t10\t-1.8955078125\n",
      "\t11\t-1.89501953125\n",
      "\t12\t-1.895263671875\n",
      "\t13\t-1.8953857421875\n",
      "\t14\t-1.89544677734375\n",
      "\t15\t-1.895477294921875\n",
      "\t16\t-1.8954925537109375\n",
      "\t17\t-1.8955001831054688\n",
      "\n",
      "\n"
     ]
    }
   ],
   "source": [
    "f=lambda x: x-2*np.sin(x)\n",
    "a,b=-2,-1\n",
    "bisection(f,a,b,10**-5)"
   ]
  },
  {
   "cell_type": "markdown",
   "metadata": {},
   "source": [
    "The first approximate root is between $[-2,-1]$ and is approximately $-1.896$. A Mathematica command of `FindRoot[x - 2 Sin[x], {x, -2}]` confirms this."
   ]
  },
  {
   "cell_type": "markdown",
   "metadata": {},
   "source": [
    "## Question 9\n",
    "\n",
    "Plot $y=e^x-2$ and $y=\\cos(e^x-2)$ and find an approximation to root accurate to $10^{-5}$ within $[0.5,1.5]$"
   ]
  },
  {
   "cell_type": "code",
   "execution_count": 60,
   "metadata": {},
   "outputs": [
    {
     "data": {
      "image/png": "[encoded data removed]",
      "text/plain": [
       "<Figure size 432x288 with 1 Axes>"
      ]
     },
     "metadata": {
      "needs_background": "light"
     },
     "output_type": "display_data"
    }
   ],
   "source": [
    "x = np.arange(0,np.pi,0.1)   # start,stop,step\n",
    "y = np.exp(x)-2\n",
    "z = np.cos(np.exp(x)-2)\n",
    "ax.grid()\n",
    "plt.grid(True)\n",
    "plt.plot(x,y,x,z)\n",
    "plt.xlabel('$x$')\n",
    "plt.ylabel('$y$')\n",
    "plt.title('Plot of $y=e^x-2$ and $y=\\cos(e^x-2)$')\n",
    "plt.legend(['$e^x-2$','$\\cos(e^x-2)$'])\n",
    "plt.show()"
   ]
  },
  {
   "cell_type": "code",
   "execution_count": 36,
   "metadata": {},
   "outputs": [
    {
     "name": "stdout",
     "output_type": "stream",
     "text": [
      "Iteration\tSolution\n",
      "\t1\t1.0\n",
      "\t2\t1.25\n",
      "\t3\t1.125\n",
      "\t4\t1.0625\n",
      "\t5\t1.03125\n",
      "\t6\t1.015625\n",
      "\t7\t1.0078125\n",
      "\t8\t1.00390625\n",
      "\t9\t1.005859375\n",
      "\t10\t1.0068359375\n",
      "\t11\t1.00732421875\n",
      "\t12\t1.007568359375\n",
      "\t13\t1.0076904296875\n",
      "\t14\t1.00762939453125\n",
      "\t15\t1.007598876953125\n",
      "\t16\t1.0076141357421875\n",
      "\t17\t1.0076217651367188\n",
      "\n",
      "\n"
     ]
    }
   ],
   "source": [
    "f=lambda x: np.exp(x)-2-np.cos(np.exp(x)-2)\n",
    "a,b=0.5,1.5\n",
    "bisection(f,a,b,10**-5)"
   ]
  },
  {
   "cell_type": "markdown",
   "metadata": {},
   "source": [
    "The solution is approximately $x=1.008$"
   ]
  },
  {
   "cell_type": "markdown",
   "metadata": {},
   "source": [
    "## Question 11\n",
    "\n",
    "Given a function $f(x)=(x+2)(x+1)x(x-1)^3(x-2)$. Find which root the solutions converge to in the intervals\n",
    "1. $[-3,2.5]$\n",
    "2. $[-2.5,3]$\n",
    "3. $[-1.75,1.5]$\n",
    "4. $[-1.5,1.75]$"
   ]
  },
  {
   "cell_type": "code",
   "execution_count": 38,
   "metadata": {},
   "outputs": [
    {
     "name": "stdout",
     "output_type": "stream",
     "text": [
      "Iteration\tSolution\n",
      "\t1\t-0.25\n",
      "\t2\t1.125\n",
      "\t3\t1.8125\n",
      "\t4\t2.15625\n",
      "\t5\t1.984375\n",
      "\t6\t2.0703125\n",
      "\t7\t2.02734375\n",
      "\t8\t2.005859375\n",
      "\t9\t1.9951171875\n",
      "\t10\t2.00048828125\n",
      "\t11\t1.997802734375\n",
      "\t12\t1.9991455078125\n",
      "\t13\t1.99981689453125\n",
      "\n",
      "\n",
      "Iteration\tSolution\n",
      "\t1\t0.25\n",
      "\t2\t-1.125\n",
      "\t3\t-1.8125\n",
      "\t4\t-2.15625\n",
      "\t5\t-1.984375\n",
      "\t6\t-2.0703125\n",
      "\t7\t-2.02734375\n",
      "\t8\t-2.005859375\n",
      "\t9\t-1.9951171875\n",
      "\t10\t-2.00048828125\n",
      "\t11\t-1.997802734375\n",
      "\t12\t-1.9991455078125\n",
      "\t13\t-1.99981689453125\n",
      "\n",
      "\n",
      "Iteration\tSolution\n",
      "\t1\t-0.125\n",
      "\t2\t-0.9375\n",
      "\t3\t-1.34375\n",
      "\t4\t-1.140625\n",
      "\t5\t-1.0390625\n",
      "\t6\t-0.98828125\n",
      "\t7\t-1.013671875\n",
      "\t8\t-1.0009765625\n",
      "\t9\t-0.99462890625\n",
      "\t10\t-0.997802734375\n",
      "\t11\t-0.9993896484375\n",
      "\t12\t-1.00018310546875\n",
      "\n",
      "\n",
      "Iteration\tSolution\n",
      "\t1\t0.125\n",
      "\t2\t0.9375\n",
      "\t3\t1.34375\n",
      "\t4\t1.140625\n",
      "\t5\t1.0390625\n",
      "\t6\t0.98828125\n",
      "\t7\t1.013671875\n",
      "\t8\t1.0009765625\n",
      "\t9\t0.99462890625\n",
      "\t10\t0.997802734375\n",
      "\t11\t0.9993896484375\n",
      "\t12\t1.00018310546875\n",
      "\n",
      "\n"
     ]
    }
   ],
   "source": [
    "f=lambda x: (x+2)*(x+1)*x*(x-1)**3*(x-2)\n",
    "a,b=-3,2.5\n",
    "bisection(f,a,b,0.001)\n",
    "\n",
    "a,b=-2.5,3\n",
    "bisection(f,a,b,0.001)\n",
    "\n",
    "a,b=-1.75,1.5\n",
    "bisection(f,a,b,0.001)\n",
    "\n",
    "a,b=-1.5,1.75\n",
    "bisection(f,a,b,0.001)"
   ]
  },
  {
   "cell_type": "markdown",
   "metadata": {},
   "source": [
    "| Interval    | Solution |   |   |   |\n",
    "|-------------|----------|---|---|---|\n",
    "| [-3,2.5]    | 2        |   |   |   |\n",
    "| [-2.5,3]    | -2       |   |   |   |\n",
    "| [-1.75,1.5] | -1       |   |   |   |\n",
    "| [-1.5,1.75] | 1        |   |   |   |"
   ]
  },
  {
   "cell_type": "markdown",
   "metadata": {},
   "source": [
    "## Question 13\n",
    "\n",
    "Find an approximation to $\\sqrt[3]{25}$ correct to $10^{-4}$"
   ]
  },
  {
   "cell_type": "code",
   "execution_count": 40,
   "metadata": {},
   "outputs": [
    {
     "name": "stdout",
     "output_type": "stream",
     "text": [
      "Iteration\tSolution\n",
      "\t1\t2.5\n",
      "\t2\t2.75\n",
      "\t3\t2.875\n",
      "\t4\t2.9375\n",
      "\t5\t2.90625\n",
      "\t6\t2.921875\n",
      "\t7\t2.9296875\n",
      "\t8\t2.92578125\n",
      "\t9\t2.923828125\n",
      "\t10\t2.9248046875\n",
      "\t11\t2.92431640625\n",
      "\t12\t2.924072265625\n",
      "\t13\t2.9239501953125\n",
      "\t14\t2.92401123046875\n",
      "\n",
      "\n"
     ]
    }
   ],
   "source": [
    "f=lambda x: x**3-25\n",
    "a,b=2,3\n",
    "bisection(f,a,b,0.0001)"
   ]
  },
  {
   "cell_type": "markdown",
   "metadata": {},
   "source": [
    "The approximate solution is $x=2.924$"
   ]
  },
  {
   "cell_type": "raw",
   "metadata": {},
   "source": []
  },
  {
   "cell_type": "markdown",
   "metadata": {},
   "source": [
    "## Question 15\n",
    "\n",
    "Given the equation $$V=L\\left[0.5\\pi r^2-r^2\\arcsin(h/r)-h\\sqrt{r^2-h^2}\\right]$$ with $L=10,r=1,V=12.4$"
   ]
  },
  {
   "cell_type": "code",
   "execution_count": 41,
   "metadata": {},
   "outputs": [],
   "source": [
    "L,r,V=10,1,12.4\n",
    "f=lambda h: V-L*(0.5*np.pi*r**2-r**2*np.arcsin(h/r)-h*np.sqrt(r**2-h**2))"
   ]
  },
  {
   "cell_type": "markdown",
   "metadata": {},
   "source": [
    "A plot of this equation will give us an idea about the interval containing the solution."
   ]
  },
  {
   "cell_type": "code",
   "execution_count": 59,
   "metadata": {},
   "outputs": [
    {
     "data": {
      "image/png": "[encoded data removed]",
      "text/plain": [
       "<Figure size 432x288 with 1 Axes>"
      ]
     },
     "metadata": {
      "needs_background": "light"
     },
     "output_type": "display_data"
    }
   ],
   "source": [
    "h = np.arange(0,1,0.1)   # start,stop,step\n",
    "y = 12.4-10*(0.5*np.pi - np.arcsin(h) - h*np.sqrt(1 - h**2))\n",
    "ax.grid()\n",
    "plt.grid(True)\n",
    "plt.plot(h,y)\n",
    "plt.xlabel('$h$')\n",
    "plt.ylabel('$f(h)$')\n",
    "plt.show()"
   ]
  },
  {
   "cell_type": "code",
   "execution_count": 62,
   "metadata": {},
   "outputs": [
    {
     "name": "stdout",
     "output_type": "stream",
     "text": [
      "Iteration\tSolution\n",
      "\t1\t0.1\n",
      "\t2\t0.15000000000000002\n",
      "\t3\t0.17500000000000002\n",
      "\t4\t0.16250000000000003\n",
      "\t5\t0.16875\n",
      "\n",
      "\n"
     ]
    }
   ],
   "source": [
    "a,b=0,0.2\n",
    "bisection(f,a,b,0.01)"
   ]
  },
  {
   "cell_type": "markdown",
   "metadata": {},
   "source": [
    "## Question 17\n",
    "\n",
    "Use Theorem $2.1$ to find a bound for the number of iterations needed to achieve an approximation\n",
    "with accuracy $10^{-4}$ to the solution of $x^3-x-1=0$ lying in the interval $[1,2]$. Find an approximation\n",
    "to the root with this degree of accuracy."
   ]
  },
  {
   "cell_type": "markdown",
   "metadata": {},
   "source": [
    "We are required to find an $N$ such that $$|p_N-p|\\le 2^{-N}(b-a)$$\n",
    "Given the interval $[1,2]$, the inequality turns into \n",
    "\n",
    "$$\\begin{align}2^{-N}(2-1)&<10^{-4}\\\\2^{-N}&<10^{-4}\\\\-N\\log_{10}2&<-4\\\\N&>\\dfrac{4}{\\log_{10}2}\\\\N&>13.28\\approx 14\\end{align}$$\n",
    "\n",
    "This consequently means, we are required to perform $14$ iterations to achieve the specified accuracy."
   ]
  },
  {
   "cell_type": "code",
   "execution_count": 63,
   "metadata": {},
   "outputs": [
    {
     "name": "stdout",
     "output_type": "stream",
     "text": [
      "Iteration\tSolution\n",
      "\t1\t1.5\n",
      "\t2\t1.25\n",
      "\t3\t1.375\n",
      "\t4\t1.3125\n",
      "\t5\t1.34375\n",
      "\t6\t1.328125\n",
      "\t7\t1.3203125\n",
      "\t8\t1.32421875\n",
      "\t9\t1.326171875\n",
      "\t10\t1.3251953125\n",
      "\t11\t1.32470703125\n",
      "\t12\t1.324951171875\n",
      "\t13\t1.3248291015625\n",
      "\t14\t1.32476806640625\n",
      "\n",
      "\n"
     ]
    }
   ],
   "source": [
    "f=lambda x:x**3-x-1\n",
    "a,b=1,2\n",
    "bisection(f,a,b,10**-4)"
   ]
  },
  {
   "cell_type": "markdown",
   "metadata": {},
   "source": [
    "and indeed, the results confirm our previous information regarding number of iterations."
   ]
  },
  {
   "cell_type": "markdown",
   "metadata": {},
   "source": [
    "## Question 19\n",
    "\n",
    "Let ${p_n}$ be the sequence defined by $p_n=\\sum_\\limits{k=1}^{n}\\dfrac1k$. Show that ${p_n}$ diverges even though $\\lim\\limits_{n\\to\\infty} (p_n-p_{n-1})=0$."
   ]
  },
  {
   "cell_type": "markdown",
   "metadata": {},
   "source": [
    "It is easy to notice that $p_n-p_{n-1}=\\dfrac1n$, which consequently proves that $\\lim_\\limits{n\\to\\infty}(p_n-p_{n-1})=0$. But $p_n$ itself is the well known harmonic series, which can be proved to be divergent via\n",
    "* the integral test\n",
    "* the $p$-test"
   ]
  },
  {
   "cell_type": "code",
   "execution_count": null,
   "metadata": {},
   "outputs": [],
   "source": []
  }
 ],
 "metadata": {
  "kernelspec": {
   "display_name": "Python 3",
   "language": "python",
   "name": "python3"
  },
  "language_info": {
   "codemirror_mode": {
    "name": "ipython",
    "version": 3
   },
   "file_extension": ".py",
   "mimetype": "text/x-python",
   "name": "python",
   "nbconvert_exporter": "python",
   "pygments_lexer": "ipython3",
   "version": "3.8.5"
  }
 },
 "nbformat": 4,
 "nbformat_minor": 4
}
